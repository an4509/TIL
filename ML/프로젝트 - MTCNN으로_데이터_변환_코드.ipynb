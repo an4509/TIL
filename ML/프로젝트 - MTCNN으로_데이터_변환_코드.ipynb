{
  "nbformat": 4,
  "nbformat_minor": 0,
  "metadata": {
    "colab": {
      "name": "MTCNN으로 데이터 변환 코드.ipynb",
      "provenance": [],
      "collapsed_sections": []
    },
    "kernelspec": {
      "name": "python3",
      "display_name": "Python 3"
    },
    "language_info": {
      "name": "python"
    },
    "accelerator": "GPU"
  },
  "cells": [
    {
      "cell_type": "markdown",
      "metadata": {
        "id": "8z5LILvvXp_9"
      },
      "source": [
        "##MTCNN 설치"
      ]
    },
    {
      "cell_type": "code",
      "metadata": {
        "colab": {
          "base_uri": "https://localhost:8080/"
        },
        "id": "sb1kxvxL7hD7",
        "outputId": "244c078b-fdfb-4ff8-9864-60f983b524e1"
      },
      "source": [
        "!pip install mtcnn"
      ],
      "execution_count": null,
      "outputs": [
        {
          "output_type": "stream",
          "text": [
            "Collecting mtcnn\n",
            "\u001b[?25l  Downloading https://files.pythonhosted.org/packages/67/43/abee91792797c609c1bf30f1112117f7a87a713ebaa6ec5201d5555a73ef/mtcnn-0.1.0-py3-none-any.whl (2.3MB)\n",
            "\u001b[K     |████████████████████████████████| 2.3MB 7.7MB/s \n",
            "\u001b[?25hRequirement already satisfied: opencv-python>=4.1.0 in /usr/local/lib/python3.7/dist-packages (from mtcnn) (4.1.2.30)\n",
            "Requirement already satisfied: keras>=2.0.0 in /usr/local/lib/python3.7/dist-packages (from mtcnn) (2.4.3)\n",
            "Requirement already satisfied: numpy>=1.14.5 in /usr/local/lib/python3.7/dist-packages (from opencv-python>=4.1.0->mtcnn) (1.19.5)\n",
            "Requirement already satisfied: pyyaml in /usr/local/lib/python3.7/dist-packages (from keras>=2.0.0->mtcnn) (3.13)\n",
            "Requirement already satisfied: h5py in /usr/local/lib/python3.7/dist-packages (from keras>=2.0.0->mtcnn) (2.10.0)\n",
            "Requirement already satisfied: scipy>=0.14 in /usr/local/lib/python3.7/dist-packages (from keras>=2.0.0->mtcnn) (1.4.1)\n",
            "Requirement already satisfied: six in /usr/local/lib/python3.7/dist-packages (from h5py->keras>=2.0.0->mtcnn) (1.15.0)\n",
            "Installing collected packages: mtcnn\n",
            "Successfully installed mtcnn-0.1.0\n"
          ],
          "name": "stdout"
        }
      ]
    },
    {
      "cell_type": "markdown",
      "metadata": {
        "id": "eIqC9hK9Xx4K"
      },
      "source": [
        "# MTCNN 설치 완료 후 버전 확인"
      ]
    },
    {
      "cell_type": "code",
      "metadata": {
        "colab": {
          "base_uri": "https://localhost:8080/"
        },
        "id": "kztBiO1b7kyx",
        "outputId": "9c5c6a12-d822-4ec0-a5ac-d9685a214525"
      },
      "source": [
        "import mtcnn\n",
        "\n",
        "print(mtcnn.__version__)"
      ],
      "execution_count": null,
      "outputs": [
        {
          "output_type": "stream",
          "text": [
            "0.1.0\n"
          ],
          "name": "stdout"
        }
      ]
    },
    {
      "cell_type": "markdown",
      "metadata": {
        "id": "zJr7iUyfX23G"
      },
      "source": [
        "# 코드구현"
      ]
    },
    {
      "cell_type": "code",
      "metadata": {
        "id": "BoJZfz8V5ILT"
      },
      "source": [
        "from os import listdir\n",
        "from PIL import Image\n",
        "from numpy import asarray\n",
        "from matplotlib import pyplot as plt\n",
        "from mtcnn.mtcnn import MTCNN\n",
        "import warnings\n",
        "warnings.filterwarnings(action='ignore')\n",
        "\n",
        "# 주어진 사진에서 하나의 얼굴 추출\n",
        "def extract_face(path, required_size=(150, 150)):\n",
        "    # 파일에서 이미지 불러오기\n",
        "    image = Image.open(path)\n",
        "    # # RGB로 변환, 필요시\n",
        "    # image = image.convert('RGB')\n",
        "    # 배열로 변환\n",
        "    pixels = asarray(image)\n",
        "    # 감지기 생성, 기본 가중치 이용\n",
        "    detector = MTCNN()\n",
        "    # 이미지에서 얼굴 감지\n",
        "    results = detector.detect_faces(pixels)\n",
        "    # 첫 번째 얼굴에서 경계 상자 추출\n",
        "    x1, y1, width, height = results[0]['box']\n",
        "    # 버그 수정\n",
        "    x1, y1 = abs(x1), abs(y1)\n",
        "    x2, y2 = x1 + width, y1 + height\n",
        "    # 얼굴 추출\n",
        "    face = pixels[y1:y2, x1:x2]\n",
        "    # 모델 사이즈로 픽셀 재조정\n",
        "    image = Image.fromarray(face)\n",
        "    image = image.resize(required_size)\n",
        "    image.save(new_folder + filename)\n",
        "\n",
        "\n",
        "# 폴더를 플롯으로 구체화하기\n",
        "folder = '/content/drive/MyDrive/Machine Learning Colab/emotion/train/neutral/'         # 기존 데이터 위치\n",
        "new_folder = '/content/drive/MyDrive/Machine Learning Colab/new_emotion/train/neutral/' # 새로 저장할 위치\n",
        "\n",
        "\n",
        "# 파일 열거\n",
        "for filename in listdir(folder):\n",
        "    try:\n",
        "        # 경로\n",
        "        path = folder + filename\n",
        "        \n",
        "        # 얼굴 추출\n",
        "        extract_face(path)\n",
        "    except IndexError: # Index range에 대한 오류 except\n",
        "        pass\n"
      ],
      "execution_count": null,
      "outputs": []
    },
    {
      "cell_type": "markdown",
      "metadata": {
        "id": "4-zuwbMPYxxu"
      },
      "source": [
        "MTCNN은 얼굴검출을 해주는 기능 가지고 있으며 얼굴이 없는 이미지일 경우 'list index out of range' 라는 오류가 뜨면서 변환이 멈추게 되는데 except처리를 해주어야 함."
      ]
    }
  ]
}