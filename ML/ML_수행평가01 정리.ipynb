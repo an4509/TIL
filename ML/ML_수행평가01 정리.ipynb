{
 "cells": [
  {
   "cell_type": "code",
   "execution_count": 1,
   "metadata": {},
   "outputs": [],
   "source": [
    "import numpy as np\n",
    "import pandas as pd\n",
    "import tensorflow as tf\n",
    "import matplotlib.pyplot as plt\n",
    "from scipy import stats     # 이상치 처리를 위해서 필요\n",
    "from sklearn import linear_model  # sklearn으로 simple linear regression 구현\n",
    "from sklearn.preprocessing import MinMaxScaler # normalization 전처리\n",
    "\n",
    "# 데이터 전처리\n",
    "# 데이터 가져오기\n",
    "df = pd.read_csv('./data/ozone.csv')\n",
    "# display(df)\n",
    "data = df[['Temp','Ozone']]\n",
    "# display(data)  # 153 rows × 6 columns\n",
    "\n",
    "# 결측치 처리\n",
    "train_data = data.dropna(how='any')\n",
    "# display(training_data)  # 116 rows × 2 columns\n",
    "\n",
    "# 이상치 처리\n",
    "# z-score\n",
    "zscore_threshold = 1.8\n",
    "\n",
    "# Temp에 대한 이상치 처리\n",
    "tmp = ~(np.abs(stats.zscore(train_data['Temp'])) > zscore_threshold)\n",
    "train_data = train_data.loc[tmp]  \n",
    "# display(training_data)  # 110 rows × 2 columns\n",
    "\n",
    "# Ozone에 대한 이상치 처리\n",
    "tmp = ~(np.abs(stats.zscore(train_data['Ozone'])) > zscore_threshold)\n",
    "train_data = train_data.loc[tmp]\n",
    "# display(training_data)  # 103 rows × 2 columns\n",
    "\n",
    "\n",
    "# training data set\n",
    "train_x_data = train_data['Temp'].values.reshape(-1,1)\n",
    "train_t_data = train_data['Ozone'].values.reshape(-1,1)\n",
    "\n",
    "# 정규화 처리\n",
    "scaler_x = MinMaxScaler() \n",
    "scaler_t = MinMaxScaler() \n",
    "scaler_x.fit(train_x_data)\n",
    "scaler_t.fit(train_t_data)\n",
    "\n",
    "train_x_data_norm = scaler_x.transform(train_x_data)\n",
    "train_t_data_norm = scaler_t.transform(train_t_data)\n",
    "\n"
   ]
  },
  {
   "cell_type": "code",
   "execution_count": 3,
   "metadata": {
    "scrolled": false
   },
   "outputs": [
    {
     "name": "stdout",
     "output_type": "stream",
     "text": [
      "W : [[0.91343668]], b : [0.32185641]\n",
      "W : [[0.74987006]], b : [-0.02400962]\n",
      "W : [[0.76190586]], b : [-0.03065596]\n",
      "W : [[0.77075611]], b : [-0.03538796]\n",
      "W : [[0.77721685]], b : [-0.03884229]\n",
      "W : [[0.78193322]], b : [-0.04136395]\n",
      "W : [[0.78537618]], b : [-0.04320478]\n",
      "W : [[0.78788956]], b : [-0.04454859]\n",
      "W : [[0.78972434]], b : [-0.04552958]\n",
      "W : [[0.79106373]], b : [-0.0462457]\n"
     ]
    }
   ],
   "source": [
    "# Python으로 구현\n",
    "\n",
    "# Weight & bias\n",
    "W_p  = np.random.rand(1,1)\n",
    "b_p  = np.random.rand(1)\n",
    "\n",
    "# 3. Hypothesis\n",
    "def predict(x):\n",
    "    y = np.dot(x,W_p) + b_p  # y = x dot W + b\n",
    "    return y\n",
    "\n",
    "# 4. loss function\n",
    "def loss_func(input_obj):\n",
    "    # input_obj : [W, b]\n",
    "    input_W = input_obj[0]\n",
    "    input_b = input_obj[1]\n",
    "    \n",
    "    y = np.dot(train_x_data_norm, input_W) + input_b  \n",
    "    return np.mean(np.power((train_t_data_norm - y),2)) \n",
    "\n",
    "# 5. 편미분을 위한 함수\n",
    "def numerical_derivative(f,x):\n",
    "  \n",
    "    delta_x = 1e-4\n",
    "    derivative_x = np.zeros_like(x)   \n",
    "    \n",
    "    it = np.nditer(x, flags=['multi_index'])  \n",
    "    \n",
    "    while not it.finished:\n",
    "        \n",
    "        idx = it.multi_index  \n",
    "        temp = x[idx]  \n",
    "        \n",
    "        x[idx] = temp + delta_x\n",
    "        fx_plus_delta = f(x)   \n",
    "        \n",
    "        x[idx] = temp - delta_x\n",
    "        fx_minus_delta = f(x)  \n",
    "        \n",
    "        derivative_x[idx] = (fx_plus_delta - fx_minus_delta) / (2 * delta_x)\n",
    "        \n",
    "        x[idx] = temp \n",
    "        \n",
    "        it.iternext()\n",
    "        \n",
    "    return derivative_x\n",
    "\n",
    "# learning rate 설정\n",
    "learning_rate = 1e-4\n",
    "\n",
    "\n",
    "for step in range(300000):\n",
    "    input_param = np.concatenate((W_p.ravel(), b_p.ravel()), axis=0)\n",
    "    derivative_result = learning_rate * numerical_derivative(loss_func, input_param)\n",
    "    \n",
    "    # W,b를 갱신\n",
    "    W_p = W_p - derivative_result[:1].reshape(1,1)\n",
    "    b_p = b_p - derivative_result[1:]\n",
    "    \n",
    "    if step % 30000 ==0:\n",
    "        print('W : {}, b : {}'.format(W_p,b_p))"
   ]
  },
  {
   "cell_type": "code",
   "execution_count": 5,
   "metadata": {},
   "outputs": [
    {
     "name": "stdout",
     "output_type": "stream",
     "text": [
      "W : [[2.817478]], b : [-0.6688451], loss : 0.46649810671806335\n",
      "W : [[2.1315737]], b : [-0.762737], loss : 0.15085379779338837\n",
      "W : [[1.770579]], b : [-0.56995696], loss : 0.09456026554107666\n",
      "W : [[1.507111]], b : [-0.42909116], loss : 0.06455910950899124\n",
      "W : [[1.3147902]], b : [-0.32626134], loss : 0.048571545630693436\n",
      "W : [[1.1743879]], b : [-0.25119808], loss : 0.040050867944955826\n",
      "W : [[1.0719126]], b : [-0.19640715], loss : 0.035510431975126266\n",
      "W : [[0.9971471]], b : [-0.1564218], loss : 0.033091407269239426\n",
      "W : [[0.94251645]], b : [-0.12721486], loss : 0.03180075064301491\n",
      "W : [[0.9026386]], b : [-0.10589216], loss : 0.031112803146243095\n"
     ]
    }
   ],
   "source": [
    "# Tensorflow로 구현\n",
    "\n",
    "# # Training Data Set\n",
    "# x_data = training_data['Temp'].values.reshape(-1,1)\n",
    "# t_data = training_data['Ozone'].values.reshape(-1,1)\n",
    "\n",
    "# placeholder\n",
    "X = tf.placeholder(shape=[None,1], dtype=tf.float32)\n",
    "T = tf.placeholder(shape=[None,1], dtype=tf.float32)\n",
    "\n",
    "# Weight & bias\n",
    "W = tf.Variable(tf.random.normal([1,1]), name='weight')\n",
    "b = tf.Variable(tf.random.normal([1]), name='bias')\n",
    "\n",
    "# Hypothesis\n",
    "H = tf.matmul(X,W) + b\n",
    "\n",
    "# loss function\n",
    "loss = tf.reduce_mean(tf.square(H-T))\n",
    "\n",
    "# train\n",
    "train = tf.train.GradientDescentOptimizer(learning_rate=1e-4).minimize(loss)\n",
    "\n",
    "# session, 초기화\n",
    "sess = tf.Session()\n",
    "sess.run(tf.global_variables_initializer())\n",
    "\n",
    "for step in range(300000):\n",
    "    _, W_val, b_val, loss_val = sess.run([train, W, b, loss], \n",
    "                                         feed_dict={X: train_x_data_norm, T: train_t_data_norm})\n",
    "    \n",
    "    if step % 30000 == 0:\n",
    "        print('W : {}, b : {}, loss : {}'.format(W_val,b_val,loss_val))"
   ]
  },
  {
   "cell_type": "code",
   "execution_count": 4,
   "metadata": {},
   "outputs": [
    {
     "name": "stdout",
     "output_type": "stream",
     "text": [
      "W : [[2.23956713]], b : [-137.09451328]\n"
     ]
    }
   ],
   "source": [
    "# Sklearn으로 구현해서 확인하기\n",
    "\n",
    "model = linear_model.LinearRegression()\n",
    "model.fit(train_x_data,train_t_data)\n",
    "\n",
    "print('W : {}, b : {}'.format(model.coef_, model.intercept_))"
   ]
  },
  {
   "cell_type": "code",
   "execution_count": 7,
   "metadata": {},
   "outputs": [
    {
     "data": {
      "image/png": "[encoded data removed]",
      "text/plain": [
       "<Figure size 432x288 with 3 Axes>"
      ]
     },
     "metadata": {
      "needs_background": "light"
     },
     "output_type": "display_data"
    }
   ],
   "source": [
    "# Graph로 비교해 보기\n",
    "fig = plt.figure()\n",
    "fig_python = fig.add_subplot(1,3,1)\n",
    "fig_tensorflow = fig.add_subplot(1,3,2)\n",
    "fig_sklearn = fig.add_subplot(1,3,3)\n",
    "\n",
    "# set title\n",
    "fig_python.set_title('Python Graph')\n",
    "fig_tensorflow.set_title('Tensorflow Graph')\n",
    "fig_sklearn.set_title('sklearn Graph')\n",
    "\n",
    "# python graph\n",
    "fig_python.scatter(train_x_data_norm,train_t_data_norm)\n",
    "fig_python.plot(train_x_data_norm,train_x_data_norm*W_p + b_p, color='r')\n",
    "\n",
    "# Tensorflow Graph\n",
    "fig_tensorflow.scatter(train_x_data_norm,train_t_data_norm)\n",
    "fig_tensorflow.plot(train_x_data_norm,train_x_data_norm*W_val + b_val, color='g')\n",
    "\n",
    "# sklearn Graph\n",
    "fig_sklearn.scatter(train_x_data,train_t_data)\n",
    "fig_sklearn.plot(train_x_data,train_x_data*model.coef_ + model.intercept_, color='b')\n",
    "\n",
    "# Graph\n",
    "fig.tight_layout()\n",
    "plt.show()\n",
    "\n"
   ]
  },
  {
   "cell_type": "code",
   "execution_count": 31,
   "metadata": {},
   "outputs": [
    {
     "name": "stdout",
     "output_type": "stream",
     "text": [
      "tensorflow : [[-1.9391316]]\n",
      "sklearn : [[1.75864872]]\n",
      "python : [[1.88265042]]\n"
     ]
    }
   ],
   "source": [
    "# prediction\n",
    "# 온도가 62도 일때 Ozone은 얼마일까요??\n",
    "predict_data = np.array([[62]])\n",
    "\n",
    "# 예측할 값 정규화\n",
    "scaled_predict_data = scaler_x.transform(predict_data)\n",
    "\n",
    "# tensorflow를 이용\n",
    "tensorflow_result = sess.run(H, feed_dict={X:scaled_predict_data})\n",
    "tensorflow_result = scaler_t.inverse_transform(tensorflow_result)\n",
    "print('tensorflow : {}'.format(tensorflow_result))\n",
    "\n",
    "\n",
    "# sklearn을 이용\n",
    "model = linear_model.LinearRegression()\n",
    "model.fit(train_x_data,train_t_data)\n",
    "sklearn_result = model.predict([[62]])\n",
    "print('sklearn : {}'.format(sklearn_result))    \n",
    "\n",
    "\n",
    "# python을 이용\n",
    "python_result = predict(scaled_predict_data)\n",
    "python_result = scaler_t.inverse_transform(python_result)\n",
    "print('python : {}'.format(python_result))"
   ]
  }
 ],
 "metadata": {
  "kernelspec": {
   "display_name": "Python [conda env:data_env]",
   "language": "python",
   "name": "conda-env-data_env-py"
  },
  "language_info": {
   "codemirror_mode": {
    "name": "ipython",
    "version": 3
   },
   "file_extension": ".py",
   "mimetype": "text/x-python",
   "name": "python",
   "nbconvert_exporter": "python",
   "pygments_lexer": "ipython3",
   "version": "3.7.9"
  }
 },
 "nbformat": 4,
 "nbformat_minor": 4
}
